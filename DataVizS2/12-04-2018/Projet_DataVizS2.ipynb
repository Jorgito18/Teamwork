{
 "cells": [
  {
   "cell_type": "code",
   "execution_count": 2,
   "metadata": {},
   "outputs": [],
   "source": [
    "# importation des bibliothèques nécessaires\n",
    "import pandas as pd\n",
    "import xlrd"
   ]
  },
  {
   "cell_type": "code",
   "execution_count": 3,
   "metadata": {},
   "outputs": [],
   "source": [
    "# déclaration des constantes\n",
    "FICHIER_ARTISANS = 'artisans_etalab.xls'\n",
    "NOMBRE_DE_LIGNES = 103 \n",
    "COLONNE_ALIMENTATION = 6 \n",
    "COLONNE_FABRICATION = 7\n",
    "COLONNE_BATIMENT = 8\n",
    "COLONNE_SERVICES = 9"
   ]
  },
  {
   "cell_type": "code",
   "execution_count": 61,
   "metadata": {},
   "outputs": [
    {
     "name": "stdout",
     "output_type": "stream",
     "text": [
      "Île-de-France\n"
     ]
    }
   ],
   "source": [
    "# ouverture du fichier artisans_etalab.xls\n",
    "donnees = xlrd.open_workbook(FICHIER_ARTISANS)\n",
    "\n",
    "# variable laquelle va contenir les meilleur régions\n",
    "meilleur_regions = []\n",
    "\n",
    "# tableaux pour les valeurs intermédiaire\n",
    "valeurs_alimentation = []\n",
    "valeurs_fabrication = []\n",
    "valeurs_batiment = []\n",
    "valeurs_services = []\n",
    "\n",
    "# parcours du fichier et récupération des données\n",
    "with open(FICHIER_ARTISANS, 'r') as f:\n",
    "    for ligne in range(3, NOMBRE_DE_LIGNES):\n",
    "        valeur = donnees.sheets()[0].cell(ligne, COLONNE_ALIMENTATION).value\n",
    "        valeurs_alimentation.append(valeur)\n",
    "\n",
    "with open(FICHIER_ARTISANS, 'r') as f:\n",
    "    for ligne in range(3, NOMBRE_DE_LIGNES):\n",
    "        valeur = donnees.sheets()[0].cell(ligne, COLONNE_FABRICATION).value\n",
    "        valeurs_fabrication.append(valeur)\n",
    "        \n",
    "with open(FICHIER_ARTISANS, 'r') as f:\n",
    "    for ligne in range(3, NOMBRE_DE_LIGNES):\n",
    "        valeur = donnees.sheets()[0].cell(ligne, COLONNE_BATIMENT).value\n",
    "        valeurs_batiment.append(valeur)\n",
    "\n",
    "with open(FICHIER_ARTISANS, 'r') as f:\n",
    "    for ligne in range(3, NOMBRE_DE_LIGNES):\n",
    "        valeur = donnees.sheets()[0].cell(ligne, COLONNE_SERVICES).value\n",
    "        valeurs_services.append(valeur)\n",
    "\n",
    "# recherche des meilleur données\n",
    "meilleur_alimentation = max(valeurs_alimentation)\n",
    "meilleur_fabrication = max(valeurs_fabrication)\n",
    "meilleur_batiment = max(valeurs_batiment)\n",
    "meilleur_services = max(valeurs_services)\n",
    "\n",
    "# recherche de l'index dans les tableaux des meilleur valeurs \n",
    "for i in range(NOMBRE_DE_LIGNES - 3):\n",
    "    if valeurs_alimentation[i] == meilleur_alimentation:\n",
    "        index_meilleur_alimentation = i\n",
    "    if valeurs_fabrication[i] == meilleur_fabrication:\n",
    "        index_meilleur_fabrication = i\n",
    "    if valeurs_batiment[i] == meilleur_batiment:\n",
    "        index_meilleur_batiment = i\n",
    "    if valeurs_services[i] == meilleur_services:\n",
    "        index_meilleur_services = i\n",
    "        \n",
    "# vérification si l'index de toutes les valeurs sont identiques \n",
    "if (index_meilleur_alimentation == index_meilleur_fabrication and\n",
    "    index_meilleur_batiment == index_meilleur_services):\n",
    "    # affectation l'index des valeurs dans une variable temporaire\n",
    "    index_du_region = index_meilleur_alimentation\n",
    "\n",
    "    for i in range(NOMBRE_DE_LIGNES):\n",
    "        valeur = donnees_campagne.sheets()[0].cell(i, 1).value\n",
    "        if i == index_du_region + 3: # on ajoute 3 car on prendre le compte de lignes blanches\n",
    "            meilleur_regions.append(valeur)\n",
    "            break\n",
    "    # affichage du meilleur région   \n",
    "    print(meilleur_regions[0])\n",
    "else:\n",
    "    # sinon on ajout les autres régions\n",
    "    for i in range(NOMBRE_DE_LIGNES):\n",
    "        valeur = donnees_campagne.sheets()[0].cell(i, 1).value\n",
    "        if i == index_meilleur_alimentation + 3: \n",
    "            meilleur_regions.append(valeur)\n",
    "        if i == index_meilleur_fabrication + 3: \n",
    "            meilleur_regions.append(valeur)\n",
    "        if i == index_meilleur_batiment + 3: \n",
    "            meilleur_regions.append(valeur)\n",
    "        if i == index_meilleur_services + 3: \n",
    "            meilleur_regions.append(valeur)\n",
    "\n",
    "    # affichage des autres régions\n",
    "    for i in range(len(meilleur_regions)):\n",
    "        print(meilleur_regions[i])"
   ]
  },
  {
   "cell_type": "code",
   "execution_count": 62,
   "metadata": {},
   "outputs": [
    {
     "name": "stdout",
     "output_type": "stream",
     "text": [
      "Les trois meilleur villes sont : \n",
      "Paris Rhône Nord\n"
     ]
    }
   ],
   "source": [
    "# déclaration des variables locales\n",
    "valeurs_ca_va =[]\n",
    "\n",
    "index_meilleur_valeurs = []\n",
    "\n",
    "ville_1 = \"\"\n",
    "ville_2 = \"\"\n",
    "ville_3 = \"\"\n",
    "\n",
    "# affectation des valeurs dans un tableau\n",
    "with open(FICHIER_ARTISANS, 'r') as p:\n",
    "    for ligne in range(1, NOMBRE_DE_LIGNES-2):\n",
    "        valeurs = donnees.sheet_by_index(1).cell(ligne,5).value\n",
    "        valeurs_ca_va.append(valeurs)\n",
    "\n",
    "# tri d'éléments du tableau par la méthode descendente\n",
    "valeurs_ca_va.sort(reverse = True)\n",
    "\n",
    "# affectation de trois meilleur valeurs (après avoir trié le tableau) \n",
    "# dans un autre tableau \n",
    "for ligne in range(0, 3):\n",
    "    index_meilleur_valeurs.append(valeurs_ca_va[ligne])\n",
    "\n",
    "# recherche de villes correspondantes à ces meilleur valeurs\n",
    "with open(FICHIER_ARTISANS, 'r') as p:\n",
    "    for ligne in range(1, NOMBRE_DE_LIGNES-2):\n",
    "        val = donnees.sheet_by_index(1).cell(ligne,5).value\n",
    "        if val == index_meilleur_valeurs[0]:\n",
    "            ville_1 = donnees.sheet_by_index(1).cell(ligne,3).value\n",
    "        if val == index_meilleur_valeurs[1]:\n",
    "            ville_2 = donnees.sheet_by_index(1).cell(ligne,3).value\n",
    "        if val == index_meilleur_valeurs[2]:\n",
    "            ville_3 = donnees.sheet_by_index(1).cell(ligne,3).value\n",
    "            \n",
    "# affichage des meilleur villes\n",
    "print(\"Les trois meilleur villes sont : \")\n",
    "print(ville_1 + \" \" + ville_2 + \" \" + ville_3)"
   ]
  },
  {
   "cell_type": "code",
   "execution_count": null,
   "metadata": {},
   "outputs": [],
   "source": []
  }
 ],
 "metadata": {
  "kernelspec": {
   "display_name": "Python 3",
   "language": "python",
   "name": "python3"
  },
  "language_info": {
   "codemirror_mode": {
    "name": "ipython",
    "version": 3
   },
   "file_extension": ".py",
   "mimetype": "text/x-python",
   "name": "python",
   "nbconvert_exporter": "python",
   "pygments_lexer": "ipython3",
   "version": "3.6.4"
  }
 },
 "nbformat": 4,
 "nbformat_minor": 2
}
